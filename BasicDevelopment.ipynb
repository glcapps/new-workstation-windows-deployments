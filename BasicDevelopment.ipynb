{
 "cells": [
  {
   "attachments": {},
   "cell_type": "markdown",
   "metadata": {},
   "source": [
    "## VS Code\n",
    "[Installation Page for VS Code](https://code.visualstudio.com/Download)"
   ]
  },
  {
   "attachments": {},
   "cell_type": "markdown",
   "metadata": {},
   "source": [
    "## Github Desktop\n",
    "[Installation Page for Github](https://desktop.github.com/)"
   ]
  },
  {
   "attachments": {},
   "cell_type": "markdown",
   "metadata": {},
   "source": [
    "## DOTNET SDK 7.x\n",
    "[Installation Page for DOTNET](https://dotnet.microsoft.com/en-us/download)"
   ]
  },
  {
   "attachments": {},
   "cell_type": "markdown",
   "metadata": {},
   "source": [
    "---\n",
    "## Install WSL 2"
   ]
  },
  {
   "cell_type": "code",
   "execution_count": null,
   "metadata": {
    "dotnet_interactive": {
     "language": "pwsh"
    },
    "polyglot_notebook": {
     "kernelName": "pwsh"
    }
   },
   "outputs": [],
   "source": [
    "dism.exe /online /enable-feature /featurename:Microsoft-Windows-Subsystem-Linux /all /norestart\n",
    "dism.exe /online /enable-feature /featurename:VirtualMachinePlatform /all /norestart\n",
    "\n",
    "wsl --install"
   ]
  },
  {
   "attachments": {},
   "cell_type": "markdown",
   "metadata": {},
   "source": [
    "An error might happen if the wsl 2 kernel is not present. The solution is easy [https://aka.ms/wsl2kernel](https://aka.ms/wsl2kernel)"
   ]
  },
  {
   "cell_type": "code",
   "execution_count": null,
   "metadata": {
    "dotnet_interactive": {
     "language": "pwsh"
    },
    "polyglot_notebook": {
     "kernelName": "pwsh"
    }
   },
   "outputs": [],
   "source": [
    "wsl --set-default-version 2"
   ]
  },
  {
   "attachments": {},
   "cell_type": "markdown",
   "metadata": {},
   "source": [
    "---\n",
    "## Docker"
   ]
  },
  {
   "cell_type": "code",
   "execution_count": null,
   "metadata": {
    "dotnet_interactive": {
     "language": "csharp"
    },
    "polyglot_notebook": {
     "kernelName": "csharp"
    }
   },
   "outputs": [],
   "source": [
    "https://desktop.docker.com/win/main/amd64/Docker%20Desktop%20Installer.exe"
   ]
  },
  {
   "cell_type": "code",
   "execution_count": null,
   "metadata": {
    "dotnet_interactive": {
     "language": "pwsh"
    },
    "polyglot_notebook": {
     "kernelName": "pwsh"
    }
   },
   "outputs": [],
   "source": [
    "#Remove Netflix, LinkedIn, MS Solitare Collection\n",
    "#Get-AppxPackage -Name *Netflix* | Remove-AppxPackage\n",
    "#Get-AppxPackage -AllUsers -Name *LinkedIn* | Remove-AppxPackage\n",
    "#Get-AppxPackage -AllUsers -Name *MicrosoftSolitaireCollection* | Remove-AppxPackage\n",
    "#Get-AppxPackage -AllUsers -Name *Microsoft.XboxApp* | Remove-AppxPackage\n",
    "#Get-AppxPackage -AllUsers -Name *Microsoft.SkypeApp* | Remove-AppxPackage\n",
    "#Get-AppxPackage -AllUsers -Name *Microsoft.YourPhone* | Remove-AppxPackage\n",
    "#Get-AppxPackage -AllUsers -Name *Microsoft.BingWeather* | Remove-AppxPackage\n",
    "#Get-AppxPackage -AllUsers -Name *Microsoft.MicrosoftOfficeHub* | Remove-AppxPackage\n",
    "#Get-AppxPackage -AllUsers -Name *Microsoft.Office.OneNote* | Remove-AppxPackage\n",
    "#Get-AppxPackage -AllUsers -Name *Microsoft.People* | Remove-AppxPackage\n",
    "#Get-AppxPackage -AllUsers -Name *Microsoft.StorePurchaseApp* | Remove-AppxPackage\n",
    "#Get-AppxPackage -AllUsers -Name *Microsoft.Wallet* | Remove-AppxPackage\n",
    "#Get-AppxPackage -AllUsers -Name *Microsoft.WindowsMaps* | Remove-AppxPackage\n",
    "#Get-AppxPackage -AllUsers -Name *Microsoft.WindowsStore* | Remove-AppxPackage\n",
    "#Get-AppxPackage -AllUsers -Name *Disney.37853FC22B2CE* | Remove-AppxPackage\n",
    "#Get-AppxPackage -AllUsers -Name *SpotifyAB.SpotifyMusic* | Remove-AppxPackage\n",
    "#Get-AppxPackage -AllUsers -Name *Microsoft.MixedReality.Portal* | Remove-AppxPackage\n",
    "#Get-AppxPackage -AllUsers -Name *Microsoft.Microsoft3DViewer* | Remove-AppxPackage\n",
    "#Get-AppxPackage -AllUsers -Name *Microsoft.ZuneMusic* | Remove-AppxPackage\n",
    "#Get-AppxPackage -AllUsers -Name *Microsoft.windowscommunicationapps* | Remove-AppxPackage\n",
    "#Get-AppxPackage -AllUsers -Name *Microsoft.windowsFeedbackHub* | Remove-AppxPackage\n",
    "#Get-AppxPackage -AllUsers -Name *Microsoft.ZuneVideo* | Remove-AppxPackage\n",
    "#Get-AppxPackage -AllUsers -Name *Microsoft.WindowsSoundRecorder* | Remove-AppxPackage"
   ]
  },
  {
   "cell_type": "code",
   "execution_count": null,
   "metadata": {
    "dotnet_interactive": {
     "language": "pwsh"
    },
    "polyglot_notebook": {
     "kernelName": "pwsh"
    }
   },
   "outputs": [],
   "source": [
    "Get-ProvisionedAppxPackage -Online | `\n",
    "Where-Object { $_.PackageName -match \"xbox\" } | `\n",
    "ForEach-Object { Remove-ProvisionedAppxPackage -Online -AllUsers -PackageName $_.PackageName }"
   ]
  },
  {
   "cell_type": "code",
   "execution_count": null,
   "metadata": {
    "dotnet_interactive": {
     "language": "pwsh"
    },
    "polyglot_notebook": {
     "kernelName": "pwsh"
    }
   },
   "outputs": [],
   "source": [
    "Get-ProvisionedAppxPackage -Online | `\n",
    "Where-Object { $_.PackageName -match \"zune\" } | `\n",
    "ForEach-Object { Remove-ProvisionedAppxPackage -Online -AllUsers -PackageName $_.PackageName }"
   ]
  },
  {
   "cell_type": "code",
   "execution_count": null,
   "metadata": {
    "dotnet_interactive": {
     "language": "pwsh"
    },
    "polyglot_notebook": {
     "kernelName": "pwsh"
    }
   },
   "outputs": [],
   "source": [
    "Get-ProvisionedAppxPackage -Online | `\n",
    "Where-Object { $_.PackageName -match \"FeedbackHub\" } | `\n",
    "ForEach-Object { Remove-ProvisionedAppxPackage -Online -AllUsers -PackageName $_.PackageName }"
   ]
  },
  {
   "cell_type": "code",
   "execution_count": null,
   "metadata": {
    "dotnet_interactive": {
     "language": "pwsh"
    },
    "polyglot_notebook": {
     "kernelName": "pwsh"
    }
   },
   "outputs": [],
   "source": [
    "Get-ProvisionedAppxPackage -Online | `\n",
    "Where-Object { $_.PackageName -match \"communicationapps\" } | `\n",
    "ForEach-Object { Remove-ProvisionedAppxPackage -Online -AllUsers -PackageName $_.PackageName }"
   ]
  },
  {
   "cell_type": "code",
   "execution_count": null,
   "metadata": {
    "dotnet_interactive": {
     "language": "pwsh"
    },
    "polyglot_notebook": {
     "kernelName": "pwsh"
    }
   },
   "outputs": [],
   "source": [
    "Get-ProvisionedAppxPackage -Online | `\n",
    "Where-Object { $_.PackageName -match \"LinkedIn\" } | `\n",
    "ForEach-Object { Remove-ProvisionedAppxPackage -Online -AllUsers -PackageName $_.PackageName }"
   ]
  },
  {
   "cell_type": "code",
   "execution_count": null,
   "metadata": {
    "dotnet_interactive": {
     "language": "pwsh"
    },
    "polyglot_notebook": {
     "kernelName": "pwsh"
    }
   },
   "outputs": [],
   "source": [
    "Get-ProvisionedAppxPackage -Online | `\n",
    "Where-Object { $_.PackageName -match \"MicrosoftSolitaireCollection\" } | `\n",
    "ForEach-Object { Remove-ProvisionedAppxPackage -Online -AllUsers -PackageName $_.PackageName }"
   ]
  },
  {
   "cell_type": "code",
   "execution_count": null,
   "metadata": {
    "dotnet_interactive": {
     "language": "pwsh"
    },
    "polyglot_notebook": {
     "kernelName": "pwsh"
    }
   },
   "outputs": [],
   "source": [
    "Get-ProvisionedAppxPackage -Online | `\n",
    "Where-Object { $_.PackageName -match \"Skype\" } | `\n",
    "ForEach-Object { Remove-ProvisionedAppxPackage -Online -AllUsers -PackageName $_.PackageName }"
   ]
  },
  {
   "cell_type": "code",
   "execution_count": null,
   "metadata": {
    "dotnet_interactive": {
     "language": "pwsh"
    },
    "polyglot_notebook": {
     "kernelName": "pwsh"
    }
   },
   "outputs": [],
   "source": [
    "# Get-ProvisionedAppxPackage -Online | `\n",
    "# Where-Object { $_.PackageName -match \"YourPhone\" } | `\n",
    "# ForEach-Object { Remove-ProvisionedAppxPackage -Online -AllUsers -PackageName $_.PackageName }"
   ]
  },
  {
   "cell_type": "code",
   "execution_count": null,
   "metadata": {
    "dotnet_interactive": {
     "language": "pwsh"
    },
    "polyglot_notebook": {
     "kernelName": "pwsh"
    }
   },
   "outputs": [],
   "source": [
    "Get-ProvisionedAppxPackage -Online | `\n",
    "Where-Object { $_.PackageName -match \"BingWeather\" } | `\n",
    "ForEach-Object { Remove-ProvisionedAppxPackage -Online -AllUsers -PackageName $_.PackageName }"
   ]
  },
  {
   "cell_type": "code",
   "execution_count": null,
   "metadata": {
    "dotnet_interactive": {
     "language": "pwsh"
    },
    "polyglot_notebook": {
     "kernelName": "pwsh"
    }
   },
   "outputs": [],
   "source": [
    "Get-ProvisionedAppxPackage -Online | `\n",
    "Where-Object { $_.PackageName -match \"MicrosoftOfficeHub\" } | `\n",
    "ForEach-Object { Remove-ProvisionedAppxPackage -Online -AllUsers -PackageName $_.PackageName }"
   ]
  },
  {
   "cell_type": "code",
   "execution_count": null,
   "metadata": {
    "dotnet_interactive": {
     "language": "pwsh"
    },
    "polyglot_notebook": {
     "kernelName": "pwsh"
    }
   },
   "outputs": [],
   "source": [
    "Get-ProvisionedAppxPackage -Online | `\n",
    "Where-Object { $_.PackageName -match \"OneNote\" } | `\n",
    "ForEach-Object { Remove-ProvisionedAppxPackage -Online -AllUsers -PackageName $_.PackageName }"
   ]
  },
  {
   "cell_type": "code",
   "execution_count": null,
   "metadata": {
    "dotnet_interactive": {
     "language": "pwsh"
    },
    "polyglot_notebook": {
     "kernelName": "pwsh"
    }
   },
   "outputs": [],
   "source": [
    "Get-ProvisionedAppxPackage -Online | `\n",
    "Where-Object { $_.PackageName -match \"People\" } | `\n",
    "ForEach-Object { Remove-ProvisionedAppxPackage -Online -AllUsers -PackageName $_.PackageName }"
   ]
  },
  {
   "cell_type": "code",
   "execution_count": null,
   "metadata": {
    "dotnet_interactive": {
     "language": "pwsh"
    },
    "polyglot_notebook": {
     "kernelName": "pwsh"
    }
   },
   "outputs": [],
   "source": [
    "Get-ProvisionedAppxPackage -Online | `\n",
    "Where-Object { $_.PackageName -match \"Wallet\" } | `\n",
    "ForEach-Object { Remove-ProvisionedAppxPackage -Online -AllUsers -PackageName $_.PackageName }"
   ]
  },
  {
   "cell_type": "code",
   "execution_count": null,
   "metadata": {
    "dotnet_interactive": {
     "language": "pwsh"
    },
    "polyglot_notebook": {
     "kernelName": "pwsh"
    }
   },
   "outputs": [],
   "source": [
    "Get-ProvisionedAppxPackage -Online | `\n",
    "Where-Object { $_.PackageName -match \"WindowsMaps\" } | `\n",
    "ForEach-Object { Remove-ProvisionedAppxPackage -Online -AllUsers -PackageName $_.PackageName }"
   ]
  },
  {
   "cell_type": "code",
   "execution_count": null,
   "metadata": {
    "dotnet_interactive": {
     "language": "pwsh"
    },
    "polyglot_notebook": {
     "kernelName": "pwsh"
    }
   },
   "outputs": [],
   "source": [
    "Get-ProvisionedAppxPackage -Online | `\n",
    "Where-Object { $_.PackageName -match \"Disney\" } | `\n",
    "ForEach-Object { Remove-ProvisionedAppxPackage -Online -AllUsers -PackageName $_.PackageName }"
   ]
  },
  {
   "cell_type": "code",
   "execution_count": null,
   "metadata": {
    "dotnet_interactive": {
     "language": "pwsh"
    },
    "polyglot_notebook": {
     "kernelName": "pwsh"
    }
   },
   "outputs": [],
   "source": [
    "# Get-ProvisionedAppxPackage -Online | `\n",
    "# Where-Object { $_.PackageName -match \"WindowsStore\" } | `\n",
    "# ForEach-Object { Remove-ProvisionedAppxPackage -Online -AllUsers -PackageName $_.PackageName }"
   ]
  },
  {
   "cell_type": "code",
   "execution_count": null,
   "metadata": {
    "dotnet_interactive": {
     "language": "pwsh"
    },
    "polyglot_notebook": {
     "kernelName": "pwsh"
    }
   },
   "outputs": [],
   "source": [
    "Get-ProvisionedAppxPackage -Online | `\n",
    "Where-Object { $_.PackageName -match \"SpotifyAB\" } | `\n",
    "ForEach-Object { Remove-ProvisionedAppxPackage -Online -AllUsers -PackageName $_.PackageName }"
   ]
  },
  {
   "cell_type": "code",
   "execution_count": null,
   "metadata": {
    "dotnet_interactive": {
     "language": "pwsh"
    },
    "polyglot_notebook": {
     "kernelName": "pwsh"
    }
   },
   "outputs": [],
   "source": [
    "Get-ProvisionedAppxPackage -Online | `\n",
    "Where-Object { $_.PackageName -match \"StorePurchaseApp\" } | `\n",
    "ForEach-Object { Remove-ProvisionedAppxPackage -Online -AllUsers -PackageName $_.PackageName }"
   ]
  },
  {
   "cell_type": "code",
   "execution_count": null,
   "metadata": {
    "dotnet_interactive": {
     "language": "pwsh"
    },
    "polyglot_notebook": {
     "kernelName": "pwsh"
    }
   },
   "outputs": [],
   "source": [
    "Get-ProvisionedAppxPackage -Online | `\n",
    "Where-Object { $_.PackageName -match \"MixedReality.Portal\" } | `\n",
    "ForEach-Object { Remove-ProvisionedAppxPackage -Online -AllUsers -PackageName $_.PackageName }"
   ]
  },
  {
   "cell_type": "code",
   "execution_count": null,
   "metadata": {
    "dotnet_interactive": {
     "language": "pwsh"
    },
    "polyglot_notebook": {
     "kernelName": "pwsh"
    }
   },
   "outputs": [],
   "source": [
    "Get-ProvisionedAppxPackage -Online | `\n",
    "Where-Object { $_.PackageName -match \"WindowsSoundRecorder\" } | `\n",
    "ForEach-Object { Remove-ProvisionedAppxPackage -Online -AllUsers -PackageName $_.PackageName }"
   ]
  },
  {
   "cell_type": "code",
   "execution_count": null,
   "metadata": {
    "dotnet_interactive": {
     "language": "pwsh"
    },
    "polyglot_notebook": {
     "kernelName": "pwsh"
    }
   },
   "outputs": [],
   "source": [
    "Get-ProvisionedAppxPackage -Online | `\n",
    "Where-Object { $_.PackageName -match \"Microsoft3DViewer\" } | `\n",
    "ForEach-Object { Remove-ProvisionedAppxPackage -Online -AllUsers -PackageName $_.PackageName }"
   ]
  },
  {
   "cell_type": "code",
   "execution_count": null,
   "metadata": {
    "dotnet_interactive": {
     "language": "pwsh"
    },
    "polyglot_notebook": {
     "kernelName": "pwsh"
    }
   },
   "outputs": [],
   "source": [
    "#Chrome\n",
    "$ChromeBackgroundApp = 'HKLM:\\SOFTWARE\\Policies\\Chrome'\n",
    "New-Item -Path $ChromeBackgroundApp -Force\n",
    "# Disable background running apps from Chrome\n",
    "New-ItemProperty -Path $ChromeBackgroundApp -Name 'BackgroundModeEnabled' -Value 0 -PropertyType DWord\n",
    "# Disable hardware acceleration\n",
    "#New-ItemProperty -Path $ChromeBackgroundApp -Name 'HardwareAccelerationModeEnabled' -Value 0 -PropertyType DWord"
   ]
  },
  {
   "cell_type": "code",
   "execution_count": null,
   "metadata": {
    "dotnet_interactive": {
     "language": "pwsh"
    },
    "polyglot_notebook": {
     "kernelName": "pwsh"
    }
   },
   "outputs": [],
   "source": [
    "[System.Environment]::GetEnvironmentVariable('PATH') -split ';'\n",
    "'_______________________'\n",
    "$env:Path -split ';'"
   ]
  },
  {
   "cell_type": "code",
   "execution_count": null,
   "metadata": {
    "dotnet_interactive": {
     "language": "pwsh"
    },
    "polyglot_notebook": {
     "kernelName": "pwsh"
    }
   },
   "outputs": [],
   "source": [
    "python.exe -m pip install --upgrade pip"
   ]
  },
  {
   "cell_type": "code",
   "execution_count": null,
   "metadata": {
    "dotnet_interactive": {
     "language": "pwsh"
    },
    "polyglot_notebook": {
     "kernelName": "pwsh"
    }
   },
   "outputs": [],
   "source": [
    "pip install jupyter"
   ]
  },
  {
   "cell_type": "code",
   "execution_count": null,
   "metadata": {
    "dotnet_interactive": {
     "language": "pwsh"
    },
    "polyglot_notebook": {
     "kernelName": "pwsh"
    }
   },
   "outputs": [],
   "source": [
    "$env:Path -split ';'"
   ]
  },
  {
   "cell_type": "code",
   "execution_count": null,
   "metadata": {
    "dotnet_interactive": {
     "language": "pwsh"
    },
    "polyglot_notebook": {
     "kernelName": "pwsh"
    }
   },
   "outputs": [],
   "source": [
    "cargo install evcxr_repl"
   ]
  },
  {
   "cell_type": "code",
   "execution_count": null,
   "metadata": {
    "dotnet_interactive": {
     "language": "pwsh"
    },
    "polyglot_notebook": {
     "kernelName": "pwsh"
    }
   },
   "outputs": [],
   "source": [
    "conda create --name evcxr\n",
    "conda activate evcxr\n",
    "conda install -y -c conda-forge nb_conda_kernels\n",
    "cargo install evcxr_jupyter\n",
    "evcxr_jupyter --install"
   ]
  }
 ],
 "metadata": {
  "kernelspec": {
   "display_name": ".NET (C#)",
   "language": "C#",
   "name": ".net-csharp"
  },
  "language_info": {
   "name": "polyglot-notebook"
  },
  "polyglot_notebook": {
   "kernelInfo": {
    "defaultKernelName": "csharp",
    "items": [
     {
      "aliases": [],
      "languageName": "csharp",
      "name": "csharp"
     }
    ]
   }
  }
 },
 "nbformat": 4,
 "nbformat_minor": 2
}
